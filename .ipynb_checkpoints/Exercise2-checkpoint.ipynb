{
 "cells": [
  {
   "cell_type": "markdown",
   "id": "8ada6f37-3ebb-4e4d-a3f2-8e7e55f81a6a",
   "metadata": {},
   "source": [
    "Estoy muy cansado y harto de python y de Git"
   ]
  },
  {
   "cell_type": "markdown",
   "id": "204f8212-4887-4972-9ce7-1bcc4a16b29d",
   "metadata": {},
   "source": [
    "#¨ya vale vvvvvvvvv¨"
   ]
  },
  {
   "cell_type": "markdown",
   "id": "aaf95c87-3997-403f-bb5e-cca33dc9021b",
   "metadata": {},
   "source": [
    "me lleva la ppvvvvvvv"
   ]
  },
  {
   "cell_type": "code",
   "execution_count": null,
   "id": "bcd1ce7e-1894-4f3a-8c60-e5d5ef4e148d",
   "metadata": {},
   "outputs": [],
   "source": []
  }
 ],
 "metadata": {
  "kernelspec": {
   "display_name": "Python 3 (ipykernel)",
   "language": "python",
   "name": "python3"
  },
  "language_info": {
   "codemirror_mode": {
    "name": "ipython",
    "version": 3
   },
   "file_extension": ".py",
   "mimetype": "text/x-python",
   "name": "python",
   "nbconvert_exporter": "python",
   "pygments_lexer": "ipython3",
   "version": "3.11.7"
  }
 },
 "nbformat": 4,
 "nbformat_minor": 5
}
