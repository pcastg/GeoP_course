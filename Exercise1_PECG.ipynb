{
 "cells": [
  {
   "cell_type": "code",
   "execution_count": 19,
   "id": "14a8970b-aab5-4c76-9ef4-56a150fb78f3",
   "metadata": {},
   "outputs": [
    {
     "name": "stdout",
     "output_type": "stream",
     "text": [
      "9\n"
     ]
    },
    {
     "data": {
      "text/plain": [
       "int"
      ]
     },
     "execution_count": 19,
     "metadata": {},
     "output_type": "execute_result"
    }
   ],
   "source": [
    "ice_cream_rating = 9\n",
    "sleeping_rating = 10\n",
    "print(ice_cream_rating)\n",
    "type(ice_cream_rating)\n"
   ]
  },
  {
   "cell_type": "code",
   "execution_count": 49,
   "id": "0af203f7-9f51-4cbb-8f1f-410ef4ac07d7",
   "metadata": {},
   "outputs": [
    {
     "name": "stdout",
     "output_type": "stream",
     "text": [
      "Pablo Castillo\n",
      "Pablo Castillo\n",
      "Mi nombre es, Pablo Castillo\n"
     ]
    }
   ],
   "source": [
    "first_name = \"Pablo\"\n",
    "last_name = \"Castillo\"\n",
    "my_name = first_name + \" \" + last_name\n",
    "my_name2 = \" \".join([first_name, last_name])\n",
    "print(my_name)\n",
    "print(my_name2)\n",
    "print (\"Mi nombre es,\" , my_name)"
   ]
  },
  {
   "cell_type": "code",
   "execution_count": 58,
   "id": "f964b0e8-c14d-4577-988d-f1fbb468c89d",
   "metadata": {},
   "outputs": [
    {
     "name": "stdout",
     "output_type": "stream",
     "text": [
      "9.5\n",
      "9.5\n"
     ]
    }
   ],
   "source": [
    "import math\n",
    "import statistics\n",
    "\n",
    "happy_rating1 = ((ice_cream_rating + sleeping_rating)/2)\n",
    "print(happy_rating1)\n",
    "happy_rating = statistics.mean([ice_cream_rating, sleeping_rating])\n",
    "print(happy_rating)"
   ]
  },
  {
   "cell_type": "markdown",
   "id": "9b4956e6-e2c9-45f1-8c14-01d07f910425",
   "metadata": {},
   "source": [
    "print (type(ice_cream_rating) , \n",
    "      type(first_name), \n",
    "       type(happy_rating)\n",
    "      )"
   ]
  },
  {
   "cell_type": "markdown",
   "id": "86cfd091-5e45-48bd-8bf9-23012fbe3b0d",
   "metadata": {},
   "source": [
    "My name is Dave and I give eating ice cream a score of 9 out of 10!\n",
    "I am Dave Whipp and my sleeping enjoyment rating is 8 / 10!\n",
    "Based on the factors above, my happiness rating is 8.5 out of 10, or 85.0 %!"
   ]
  },
  {
   "cell_type": "code",
   "execution_count": 89,
   "id": "3b95126f-39e7-462b-8c3b-06f51886587d",
   "metadata": {},
   "outputs": [
    {
     "name": "stdout",
     "output_type": "stream",
     "text": [
      "My name is Pablo and I give eating ice cream a score of 9 out of 10!\n",
      "I am Pablo Castillo snd my sleeping enjoyment rating is 10 / 10! \n",
      "Based on the factors above my happiness rating is 9.5 out of 10, or 95.0 %!\n"
     ]
    }
   ],
   "source": [
    "print(f\"My name is {first_name} and I give eating ice cream a score of {ice_cream_rating} out of 10!\")\n",
    "print(f\"I am {my_name} snd my sleeping enjoyment rating is {sleeping_rating} / 10! \")\n",
    "print(f\"Based on the factors above my happiness rating is {happy_rating} out of 10, or {happy_rating* 10:.1f} %!\")\n",
    "\n",
    "# f\" se usa para poder insertar las variables dentro del texto, y se usan {} para poner las variables\n",
    "# para obtener el porcentaje se multiplica por 10 y se establece un decimal de cifra significativa (:1f)\n",
    "\n",
    "\n"
   ]
  }
 ],
 "metadata": {
  "kernelspec": {
   "display_name": "Python 3 (ipykernel)",
   "language": "python",
   "name": "python3"
  },
  "language_info": {
   "codemirror_mode": {
    "name": "ipython",
    "version": 3
   },
   "file_extension": ".py",
   "mimetype": "text/x-python",
   "name": "python",
   "nbconvert_exporter": "python",
   "pygments_lexer": "ipython3",
   "version": "3.11.7"
  }
 },
 "nbformat": 4,
 "nbformat_minor": 5
}
